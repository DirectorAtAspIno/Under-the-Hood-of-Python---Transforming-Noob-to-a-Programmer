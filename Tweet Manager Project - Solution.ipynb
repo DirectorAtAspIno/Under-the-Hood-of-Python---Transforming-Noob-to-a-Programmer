{
 "cells": [
  {
   "cell_type": "markdown",
   "metadata": {},
   "source": [
    "### Job Opportunity Checker"
   ]
  },
  {
   "cell_type": "markdown",
   "metadata": {},
   "source": [
    "** Create a dictionary comprising of Job Opportunity Details **"
   ]
  },
  {
   "cell_type": "code",
   "execution_count": 1,
   "metadata": {
    "collapsed": true
   },
   "outputs": [],
   "source": [
    "# Create a dictionary listing the job requirement\n",
    "    # where each key in the dicrionary indiacates the Job name and the corresponding value storing list of Numbers\n",
    "        # Where first element/number in the list indicates the years the experience required for the Job\n",
    "        # And second element/number in the list indicates the left over openings for the job mentioned in the key\n",
    "jobs = {\n",
    "    \"Python Developer\": {\"Required_years_of_experience\":3,\"Num_of_openings\":4},\n",
    "    \"Python Scripting\": {\"Required_years_of_experience\":2, \"Num_of_openings\":6},\n",
    "    \"Java Developer\": {\"Required_years_of_experience\":4, \"Num_of_openings\":2},\n",
    "    \"C Developer\": {\"Required_years_of_experience\":6, \"Num_of_openings\":3},\n",
    "    \"Javascript Devloper\": {\"Required_years_of_experience\":3, \"Num_of_openings\":5},\n",
    "}"
   ]
  },
  {
   "cell_type": "markdown",
   "metadata": {},
   "source": [
    "** Take input from the end user, asking to which job opportunity is he looking for **"
   ]
  },
  {
   "cell_type": "code",
   "execution_count": 3,
   "metadata": {
    "collapsed": false
   },
   "outputs": [
    {
     "name": "stdout",
     "output_type": "stream",
     "text": [
      "Which is the position you are lookig for?:Python Developer\n"
     ]
    }
   ],
   "source": [
    "desired_job = input('Which is the position you are lookig for?:').strip().title()"
   ]
  },
  {
   "cell_type": "markdown",
   "metadata": {},
   "source": [
    "** Verify if the desired job opportunity by end user is existing in our job dictionary, If yes then just add a Pass instruction else print a message that there is no job opportunity for the position the user is looking for with the help of format function**"
   ]
  },
  {
   "cell_type": "code",
   "execution_count": 4,
   "metadata": {
    "collapsed": false
   },
   "outputs": [
    {
     "name": "stdout",
     "output_type": "stream",
     "text": [
      "Which is the position you are lookig for?:Python Developer\n"
     ]
    }
   ],
   "source": [
    "desired_job = input('Which is the position you are lookig for?:').strip().title()\n",
    "if desired_job in jobs:\n",
    "    pass\n",
    "else:\n",
    "    print(\"There is no opportunity currently for {}\".format(desired_job))"
   ]
  },
  {
   "cell_type": "markdown",
   "metadata": {},
   "source": [
    "** If the job user is looking for exists in our dictionary, verify if the candidate is experienced enough for the job by asking for his/her years of experience as an input, compring it with required years of experience present in dictionary and print a suitable message based on the experience eligibility **\n",
    "\n",
    "_Note : input() function takes the value as a string, but num-of-years-of-experience must to be an integer, so ownus of it is on us to convert the input string to an integer or required data type before using it for further operations_"
   ]
  },
  {
   "cell_type": "code",
   "execution_count": 5,
   "metadata": {
    "collapsed": false
   },
   "outputs": [
    {
     "name": "stdout",
     "output_type": "stream",
     "text": [
      "Which is the position you are lookig for?:Python Developer\n",
      "How many years of experience do you posses in Python Developer3\n",
      "You are eligible for the current opening on Python Developer\n"
     ]
    }
   ],
   "source": [
    "desired_job = input('Which is the position you are lookig for?:').strip().title()\n",
    "if desired_job in jobs:\n",
    "    experience = int(input('How many years of experience do you posses in {}'.format(desired_job)).strip())\n",
    "    \n",
    "    # check user's experience on desired_job\n",
    "    \n",
    "    if experience >= jobs[desired_job][\"Required_years_of_experience\"]:\n",
    "        print('You are eligible for the current opening on {}'.format(desired_job))\n",
    "    else:\n",
    "        print('Sorry! You are not experienced enough to apply for current opening on {}'.format(desired_job))\n",
    "    \n",
    "else:\n",
    "    print(\"There is no opportunity currently for {}\".format(desired_job))"
   ]
  },
  {
   "cell_type": "markdown",
   "metadata": {},
   "source": [
    "** If the above two stages are passed, then finally check if there are more than one current openings for the position user is looking for and print a suitable message based on comparision **\n",
    "\n",
    "_This is an optional scenario: Put the entire code in an infinite while loop, to fill in all the job positions and break the loop once there are no more opportunities or if the user doesnt match the requirement_"
   ]
  },
  {
   "cell_type": "code",
   "execution_count": 7,
   "metadata": {
    "collapsed": false
   },
   "outputs": [
    {
     "name": "stdout",
     "output_type": "stream",
     "text": [
      "\n",
      "Which is the position you are lookig for?:Python Developer\n",
      "\n",
      "How many years of experience do you posses in Python Developer: 4\n",
      "\n",
      "You can apply for the current opening on Python Developer\n",
      "\n",
      "Which is the position you are lookig for?:Python Developer\n",
      "\n",
      "How many years of experience do you posses in Python Developer: 3\n",
      "\n",
      "You can apply for the current opening on Python Developer\n",
      "\n",
      "Which is the position you are lookig for?:Python Developer\n",
      "\n",
      "How many years of experience do you posses in Python Developer: 3\n",
      "\n",
      "You can apply for the current opening on Python Developer\n",
      "\n",
      "Which is the position you are lookig for?:Python Developer\n",
      "\n",
      "How many years of experience do you posses in Python Developer: 5\n",
      "\n",
      "You can apply for the current opening on Python Developer\n",
      "\n",
      "Which is the position you are lookig for?:Python Developer\n",
      "\n",
      "How many years of experience do you posses in Python Developer: 5\n",
      "\n",
      "Sorry! Current posistion of Python Developer is filled\n"
     ]
    }
   ],
   "source": [
    "while True:\n",
    "    desired_job = input('\\nWhich is the position you are lookig for?:').strip().title()\n",
    "    if desired_job in jobs:\n",
    "        experience = int(input('\\nHow many years of experience do you posses in {}: '.format(desired_job)).strip())\n",
    "\n",
    "        # check user's experience on desired_job\n",
    "\n",
    "        if experience >= jobs[desired_job][\"Required_years_of_experience\"]:\n",
    "\n",
    "            #Check if the opening still exists\n",
    "            if jobs[desired_job][\"Num_of_openings\"] > 0:\n",
    "                print('\\nYou can apply for the current opening on {}'.format(desired_job))\n",
    "                jobs[desired_job][\"Num_of_openings\"]-=1 #same as jobs[desired_job][\"Num_of_openings\"] = jobs[desired_job][\"Num_of_openings\"] - 1\n",
    "            else:\n",
    "                print('\\nSorry! Current posistion of {} is filled'.format(desired_job))\n",
    "                break\n",
    "        else:\n",
    "            print('\\nSorry! You are not experienced enough to apply for current opening on {}'.format(desired_job))\n",
    "            break\n",
    "\n",
    "    else:\n",
    "        print(\"\\nThere is no opportunity currently for {}\".format(desired_job))\n",
    "        break"
   ]
  }
 ],
 "metadata": {
  "kernelspec": {
   "display_name": "Python 3",
   "language": "python",
   "name": "python3"
  },
  "language_info": {
   "codemirror_mode": {
    "name": "ipython",
    "version": 3
   },
   "file_extension": ".py",
   "mimetype": "text/x-python",
   "name": "python",
   "nbconvert_exporter": "python",
   "pygments_lexer": "ipython3",
   "version": "3.6.0"
  }
 },
 "nbformat": 4,
 "nbformat_minor": 2
}
