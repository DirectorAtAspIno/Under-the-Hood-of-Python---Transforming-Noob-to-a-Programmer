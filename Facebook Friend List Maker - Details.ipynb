{
 "cells": [
  {
   "cell_type": "markdown",
   "metadata": {},
   "source": [
    "### Facebook Friend List Maker\n",
    "\n",
    "** In this project, we are going to create a list, check the entries in the list using conditional operators, add the entries to the list, remove the entry from list as per the conditional flow and build a Facebook Friend List Maker **"
   ]
  },
  {
   "cell_type": "code",
   "execution_count": 1,
   "metadata": {
    "collapsed": true
   },
   "outputs": [],
   "source": []
  },
  {
   "cell_type": "markdown",
   "metadata": {},
   "source": [
    "** Print the above created list**"
   ]
  },
  {
   "cell_type": "code",
   "execution_count": 2,
   "metadata": {
    "collapsed": false
   },
   "outputs": [
    {
     "name": "stdout",
     "output_type": "stream",
     "text": [
      "['John', 'Michel', 'Watson', 'Taylor', 'Mary']\n"
     ]
    }
   ],
   "source": []
  },
  {
   "cell_type": "markdown",
   "metadata": {},
   "source": [
    "** Print a message of \"Hi, I am your Friend Maker\" and ask for user name as input and assign it to a variable**"
   ]
  },
  {
   "cell_type": "code",
   "execution_count": 3,
   "metadata": {
    "collapsed": false
   },
   "outputs": [
    {
     "name": "stdout",
     "output_type": "stream",
     "text": [
      "Hi! I am your Friend Maker\n",
      "May i know your name please?: John\n"
     ]
    }
   ],
   "source": []
  },
  {
   "cell_type": "markdown",
   "metadata": {},
   "source": [
    "** Check whether user input name is existing in the list or not, if it exists then print a message that the user input name is already a friend of James and if not then mention the name is not part of friend list using format function **"
   ]
  },
  {
   "cell_type": "code",
   "execution_count": 4,
   "metadata": {
    "collapsed": false
   },
   "outputs": [
    {
     "name": "stdout",
     "output_type": "stream",
     "text": [
      "Hey John, you are already James Friend!\n"
     ]
    }
   ],
   "source": []
  },
  {
   "cell_type": "markdown",
   "metadata": {},
   "source": [
    "** Put your last two instructions of asking user input(capitalizing it as the James_friend_list has all its elements capitalized) and verifying its presence in the list along with suitable message together **"
   ]
  },
  {
   "cell_type": "code",
   "execution_count": 6,
   "metadata": {
    "collapsed": false
   },
   "outputs": [
    {
     "name": "stdout",
     "output_type": "stream",
     "text": [
      "Hi! I am your Friend Maker\n",
      "\n",
      "May i know your name please?: john\n",
      "\n",
      "Hey John, you are already James Friend!\n"
     ]
    }
   ],
   "source": []
  },
  {
   "cell_type": "markdown",
   "metadata": {},
   "source": [
    "** If user input is present in the friend list, ask the user if he would like to break the friendship, with y or n as response from him/her and if he/she says 'y', then remove the corresponding element from James_friend_list and finally print the latest James_friend_list**"
   ]
  },
  {
   "cell_type": "code",
   "execution_count": 7,
   "metadata": {
    "collapsed": false
   },
   "outputs": [
    {
     "name": "stdout",
     "output_type": "stream",
     "text": [
      "Hi! I am your Friend Maker\n",
      "\n",
      "May i know your name please?: John\n",
      "\n",
      "Hey John, you are already James Friend!\n",
      "\n",
      "Would you like to break James friendship(y/n)?:y\n",
      "\n",
      "James friends are:['Michel', 'Watson', 'Taylor', 'Mary']\n"
     ]
    }
   ],
   "source": []
  },
  {
   "cell_type": "markdown",
   "metadata": {},
   "source": [
    "**If user input is not present in the friend list, ask the user if he would like be a friend of James, with y or n as response from him/her and if he/she says 'y', then add the corresponding element to the James_friend_list and finally print the latest James_friend_list **"
   ]
  },
  {
   "cell_type": "code",
   "execution_count": 8,
   "metadata": {
    "collapsed": false
   },
   "outputs": [
    {
     "name": "stdout",
     "output_type": "stream",
     "text": [
      "Hi! I am your Friend Maker\n",
      "\n",
      "May i know your name please?: JOHN\n",
      "\n",
      "Hey John, I don't think you are a friend of James yet\n",
      "\n",
      "Would you like to get connected with James?:y\n",
      "\n",
      "James friends are:['Michel', 'Watson', 'Taylor', 'Mary', 'John']\n"
     ]
    }
   ],
   "source": []
  },
  {
   "cell_type": "markdown",
   "metadata": {},
   "source": [
    "** If user input is present in the friend list, ask the user if he would like to break the friendship, with y or n as response from him/her and if he/she says 'n', then print a happy message for their long lasting friendship and finally print the latest James_friend_list**\n",
    "\n",
    "\n",
    "**If user input is not present in the friend list, ask the user if he would like be a friend of James, with y or n as response from him/her and if he/she says 'n', then print a message to connect to another friend next time and finally print the latest James_friend_list **"
   ]
  },
  {
   "cell_type": "code",
   "execution_count": 9,
   "metadata": {
    "collapsed": false
   },
   "outputs": [
    {
     "name": "stdout",
     "output_type": "stream",
     "text": [
      "Hi! I am your Friend Maker\n",
      "\n",
      "May i know your name please?: John\n",
      "\n",
      "Hey John, you are already James friend!\n",
      "\n",
      "Would you like to break James Friendship(y/n)?:n\n",
      "\n",
      "Nice to know that, Let your friendship last forever\n"
     ]
    }
   ],
   "source": []
  }
 ],
 "metadata": {
  "kernelspec": {
   "display_name": "Python 3",
   "language": "python",
   "name": "python3"
  },
  "language_info": {
   "codemirror_mode": {
    "name": "ipython",
    "version": 3
   },
   "file_extension": ".py",
   "mimetype": "text/x-python",
   "name": "python",
   "nbconvert_exporter": "python",
   "pygments_lexer": "ipython3",
   "version": "3.6.0"
  }
 },
 "nbformat": 4,
 "nbformat_minor": 2
}
