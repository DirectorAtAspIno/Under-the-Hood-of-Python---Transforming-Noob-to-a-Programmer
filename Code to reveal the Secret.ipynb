{
 "cells": [
    {
   "cell_type": "markdown",
   "metadata": {},
   "source": [
    "## Code to reveal the secret\n",
    "\n",
    "##### What is the secret that we are going to reveal in this program?\n",
    "\n",
    "##### We have some set of strings which are termed as secret words in our game, they are stored inside a  specific Data Structure in python.\n",
    "\n",
    "##### Now the python code that we write must pick up one of the secret word of its choice (which of course player shouldnt know to start with)from the stored data structure and respond back to the  player with some hints about it.\n",
    "\n",
    "##### For example - number of characters involved in that string could be one of the hints. \n",
    "\n",
    "##### Following to which, the program must ask the player to guess each character present in the word - character by character and after each successful guess of the character, program must fill the corresponding position of the character in string and let the player continue to guess the remaining characters in  string to reveal the program chosen secret word.\n",
    "\n",
    "##### What if the guess goes wrong? Not to worry! our program must be kind enough to give some chance to the player, so in total there must be 7 lives or chances that the player must be given to guess the secret word.\n",
    "\n",
    "##### If the player misses out all the given chances then the game gets over, secret word has to be revealed by the program and the player loses :(\n",
    "\n",
    "##### So, With this input about the game, lets start coding it!"
   ]
  },
  {
   "cell_type": "code",
   "execution_count": 1,
   "metadata": {
    "collapsed": true
   },
   "outputs": [],
   "source": [
    "import random"
   ]
  },
  {
   "cell_type": "code",
   "execution_count": 2,
   "metadata": {
    "collapsed": true
   },
   "outputs": [],
   "source": [
    "input_words = ['apple',  'banana',  'orange',  'coconut',  'strawberry',  'lime',  'grapefruit',  'lemon',  'kumquat',  'blueberry',  'melon']"
   ]
  },
  {
   "cell_type": "code",
   "execution_count": 3,
   "metadata": {
    "collapsed": false
   },
   "outputs": [
    {
     "data": {
      "text/plain": [
       "['apple',\n",
       " 'banana',\n",
       " 'orange',\n",
       " 'coconut',\n",
       " 'strawberry',\n",
       " 'lime',\n",
       " 'grapefruit',\n",
       " 'lemon',\n",
       " 'kumquat',\n",
       " 'blueberry',\n",
       " 'melon']"
      ]
     },
     "execution_count": 3,
     "metadata": {},
     "output_type": "execute_result"
    }
   ],
   "source": [
    "input_words"
   ]
  },
  {
   "cell_type": "code",
   "execution_count": 7,
   "metadata": {
    "collapsed": false
   },
   "outputs": [
    {
     "name": "stdout",
     "output_type": "stream",
     "text": [
      "\n",
      "Welcome to Guessing World, you will have 7 lives to guess the secret word, start your game now!\n",
      "\n",
      "You got a secret word with 10 letters to be guessed !\n",
      "\n",
      "Make your first guess: a\n",
      "\n",
      "\n",
      "\n",
      "Thats a good guess! you are having 9 more ltters to guess\n",
      "_ _ _ a_ _ _ _ _ _ \n",
      "make your next guess to find the secret word k\n",
      "\n",
      "\n",
      "\n",
      "Sorry ! thats a wrong guess, do not worry, you still have 6 more lives\n",
      "_ _ _ a_ _ _ _ _ _ \n",
      "make your next guess to find the secret word bn\n",
      "\n",
      "\n",
      "\n",
      "You can only make a single character guess at a time!\n",
      "\n",
      "make your next guess to find the secret word a\n",
      "\n",
      "\n",
      "\n",
      "You have already used this guess!\n",
      "\n",
      "make your next guess to find the secret word 1\n",
      "\n",
      "\n",
      "\n",
      "You must only guess an alphabet!\n",
      "\n",
      "make your next guess to find the secret word b\n",
      "\n",
      "\n",
      "\n",
      "Thats a good guess! you are having 8 more ltters to guess\n",
      "_ _ _ a_ b_ _ _ _ \n",
      "make your next guess to find the secret word k\n",
      "\n",
      "\n",
      "\n",
      "You have already used this guess!\n",
      "\n",
      "make your next guess to find the secret word a\n",
      "\n",
      "\n",
      "\n",
      "You have already used this guess!\n",
      "\n",
      "make your next guess to find the secret word s\n",
      "\n",
      "\n",
      "\n",
      "Thats a good guess! you are having 7 more ltters to guess\n",
      "s_ _ a_ b_ _ _ _ \n",
      "make your next guess to find the secret word t\n",
      "\n",
      "\n",
      "\n",
      "Thats a good guess! you are having 6 more ltters to guess\n",
      "st_ a_ b_ _ _ _ \n",
      "make your next guess to find the secret word r\n",
      "\n",
      "\n",
      "\n",
      "Thats a good guess! you are having 3 more ltters to guess\n",
      "stra_ b_ rr_ \n",
      "make your next guess to find the secret word w\n",
      "\n",
      "\n",
      "\n",
      "Thats a good guess! you are having 2 more ltters to guess\n",
      "strawb_ rr_ \n",
      "make your next guess to find the secret word e\n",
      "\n",
      "\n",
      "\n",
      "Come on! you are left with last letter to reveal the secret\n",
      "strawberr_ \n",
      "make your next guess to find the secret word y\n",
      "\n",
      "\n",
      "\n",
      "Hurray! you won by guessing it right! secret word was strawberry\n"
     ]
    }
   ],
   "source": [
    "secret_word = random.choice(input_words)\n",
    "right_guesses = [] \n",
    "wrong_guesses = []\n",
    "faulty_attempt = False\n",
    "guess = ''\n",
    "\n",
    "while True:\n",
    "    if not right_guesses and not wrong_guesses and not faulty_attempt:\n",
    "        print('\\nWelcome to Guessing World, you will have 7 lives to guess the secret word, start your game now!')\n",
    "        print('\\nYou got a secret word with {} letters to be guessed !'.format(len(secret_word)))\n",
    "        guess = input('\\nMake your first guess: ').lower()\n",
    "    else:\n",
    "        guess = input('\\nmake your next guess to find the secret word ').lower()\n",
    "\n",
    "    print('\\n')\n",
    "    \n",
    "    if len(guess) != 1:\n",
    "        print('\\nYou can only make a single character guess at a time!')\n",
    "        faulty_attempt = True\n",
    "        continue\n",
    "    elif guess in right_guesses or guess in wrong_guesses:\n",
    "        print('\\nYou have already used this guess!')\n",
    "        faulty_attempt = True\n",
    "        continue\n",
    "    elif not guess.isalpha():\n",
    "        print('\\nYou must only guess an alphabet!')\n",
    "        faulty_attempt = True\n",
    "        continue\n",
    "    \n",
    "    if guess in secret_word:\n",
    "        for char_count in range(secret_word.count(guess)):\n",
    "            right_guesses.append(guess)    \n",
    "        letters_to_guess = len(secret_word) - len(right_guesses)\n",
    "\n",
    "        if not letters_to_guess:\n",
    "            print('\\nHurray! you won by guessing it right! secret word was {}'.format(secret_word))\n",
    "            break\n",
    "        elif letters_to_guess == 1:\n",
    "            print('\\nCome on! you are left with last letter to reveal the secret')\n",
    "        else:\n",
    "            print('\\nThats a good guess! you are having {} more ltters to guess'.format(letters_to_guess))\n",
    "\n",
    "    else:\n",
    "        wrong_guesses.append(guess)\n",
    "        if len(wrong_guesses) == 7:\n",
    "            print('\\nSorry! you just lost the game. Game over')\n",
    "            print('\\nHere is your secret word - {}'.format(secret_word))\n",
    "            break\n",
    "        elif len(wrong_guesses) == 6:\n",
    "            print('\\nBe more cautious !! you just have one last attempt to guess the secret word')\n",
    "        else:\n",
    "            print('\\nSorry ! thats a wrong guess, do not worry, you still have {} more lives'.format(7-len(wrong_guesses)))\n",
    "    \n",
    "    \n",
    "    for letter in secret_word:\n",
    "        if letter in right_guesses:\n",
    "            print(letter, end='')\n",
    "        else:\n",
    "            print('_',end=' ')\n",
    "        \n",
    "    "
   ]
  },
  {
   "cell_type": "code",
   "execution_count": null,
   "metadata": {
    "collapsed": true
   },
   "outputs": [],
   "source": []
  }
 ],
 "metadata": {
  "kernelspec": {
   "display_name": "Python 3",
   "language": "python",
   "name": "python3"
  },
  "language_info": {
   "codemirror_mode": {
    "name": "ipython",
    "version": 3
   },
   "file_extension": ".py",
   "mimetype": "text/x-python",
   "name": "python",
   "nbconvert_exporter": "python",
   "pygments_lexer": "ipython3",
   "version": "3.6.0"
  }
 },
 "nbformat": 4,
 "nbformat_minor": 2
}
