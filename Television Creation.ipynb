{
 "cells": [
  {
   "cell_type": "markdown",
   "metadata": {},
   "source": [
    "## Creation of Television using OOP in Python\n",
    "\n",
    "In this program we are going to make use of verious concepts of OOP in python to create Television class and variants of base Television.\n",
    "\n",
    "We will use different capabilities of programming to define the characteristics and behaviour of Television and control few of the dynamically by the user.\n",
    "\n",
    "With this input let us go ahead and create Television and play around it!"
   ]
  },
  {
   "cell_type": "code",
   "execution_count": 7,
   "metadata": {
    "collapsed": true
   },
   "outputs": [],
   "source": [
    "class Television():\n",
    "    \n",
    "    def __init__(self,width, height, screensize,maxVolume=100,volume=0,power=False):\n",
    "        self.width = width\n",
    "        self.height = height\n",
    "        self.screensize = screensize\n",
    "        self.maxVolume=maxVolume\n",
    "        self.volume = volume\n",
    "        self.power = power\n",
    "        \n",
    "    def channelTunning(self,channelNumber):\n",
    "        switch ={\n",
    "            1: 34.56, \n",
    "            2: 54.92, \n",
    "            3: 73.89,\n",
    "        }\n",
    "        return switch.get(channelNumber,0)\n",
    "    \n",
    "    def powerSwitch(self):\n",
    "        self.power = not self.power\n",
    "        if self.power == True:\n",
    "            print('Television is turned ON')\n",
    "        else:\n",
    "            print('Television is turned OFF')\n",
    "    \n",
    "    def increaseVolume(self):\n",
    "        if self.maxVolume > self.volume:\n",
    "            self.volume+=1\n",
    "        print('Current volume value of TV is: '+str(self.volume))\n",
    "            \n",
    "    def decreaseVolume(self):\n",
    "        if 0 < self.volume:\n",
    "            self.volume-=1\n",
    "        print('Current volume value of TV is: '+str(self.volume))"
   ]
  },
  {
   "cell_type": "code",
   "execution_count": 8,
   "metadata": {
    "collapsed": true
   },
   "outputs": [],
   "source": [
    "newTelevision = Television(10.5,7,9)"
   ]
  },
  {
   "cell_type": "code",
   "execution_count": 4,
   "metadata": {
    "collapsed": false
   },
   "outputs": [
    {
     "data": {
      "text/plain": [
       "10.5"
      ]
     },
     "execution_count": 4,
     "metadata": {},
     "output_type": "execute_result"
    }
   ],
   "source": [
    "newTelevision.width"
   ]
  },
  {
   "cell_type": "code",
   "execution_count": 5,
   "metadata": {
    "collapsed": false
   },
   "outputs": [
    {
     "data": {
      "text/plain": [
       "7"
      ]
     },
     "execution_count": 5,
     "metadata": {},
     "output_type": "execute_result"
    }
   ],
   "source": [
    "newTelevision.height"
   ]
  },
  {
   "cell_type": "code",
   "execution_count": 6,
   "metadata": {
    "collapsed": false
   },
   "outputs": [
    {
     "data": {
      "text/plain": [
       "9"
      ]
     },
     "execution_count": 6,
     "metadata": {},
     "output_type": "execute_result"
    }
   ],
   "source": [
    "newTelevision.screensize"
   ]
  },
  {
   "cell_type": "code",
   "execution_count": 9,
   "metadata": {
    "collapsed": false
   },
   "outputs": [
    {
     "name": "stdout",
     "output_type": "stream",
     "text": [
      "Television is turned ON\n"
     ]
    }
   ],
   "source": [
    "newTelevision.powerSwitch()"
   ]
  },
  {
   "cell_type": "code",
   "execution_count": 10,
   "metadata": {
    "collapsed": false
   },
   "outputs": [
    {
     "data": {
      "text/plain": [
       "True"
      ]
     },
     "execution_count": 10,
     "metadata": {},
     "output_type": "execute_result"
    }
   ],
   "source": [
    "newTelevision.power"
   ]
  },
  {
   "cell_type": "code",
   "execution_count": 11,
   "metadata": {
    "collapsed": false
   },
   "outputs": [
    {
     "name": "stdout",
     "output_type": "stream",
     "text": [
      "Television is turned OFF\n"
     ]
    }
   ],
   "source": [
    "newTelevision.powerSwitch()"
   ]
  },
  {
   "cell_type": "code",
   "execution_count": 12,
   "metadata": {
    "collapsed": false
   },
   "outputs": [
    {
     "data": {
      "text/plain": [
       "False"
      ]
     },
     "execution_count": 12,
     "metadata": {},
     "output_type": "execute_result"
    }
   ],
   "source": [
    "newTelevision.power"
   ]
  },
  {
   "cell_type": "code",
   "execution_count": 13,
   "metadata": {
    "collapsed": false
   },
   "outputs": [
    {
     "data": {
      "text/plain": [
       "54.92"
      ]
     },
     "execution_count": 13,
     "metadata": {},
     "output_type": "execute_result"
    }
   ],
   "source": [
    "newTelevision.channelTunning(2)"
   ]
  },
  {
   "cell_type": "code",
   "execution_count": 14,
   "metadata": {
    "collapsed": false
   },
   "outputs": [
    {
     "name": "stdout",
     "output_type": "stream",
     "text": [
      "Current volume value of TV is: 1\n"
     ]
    }
   ],
   "source": [
    "newTelevision.increaseVolume()"
   ]
  },
  {
   "cell_type": "code",
   "execution_count": 27,
   "metadata": {
    "collapsed": true
   },
   "outputs": [],
   "source": [
    "class DVDPlayerTelevision(Television):\n",
    "    \n",
    "    def PlayDVD(self):\n",
    "        print('Playing DVD on Television with : '+str(self.width)+ ' width and height = :'+\n",
    "                          str(self.height) +' having screen size as :'+str(self.screensize))"
   ]
  },
  {
   "cell_type": "code",
   "execution_count": 28,
   "metadata": {
    "collapsed": true
   },
   "outputs": [],
   "source": [
    "dvdPlayerTelevision = DVDPlayerTelevision(10.5,7,9)"
   ]
  },
  {
   "cell_type": "code",
   "execution_count": 29,
   "metadata": {
    "collapsed": false
   },
   "outputs": [
    {
     "name": "stdout",
     "output_type": "stream",
     "text": [
      "Television is turned ON\n"
     ]
    }
   ],
   "source": [
    "dvdPlayerTelevision.powerSwitch()"
   ]
  },
  {
   "cell_type": "code",
   "execution_count": 31,
   "metadata": {
    "collapsed": false
   },
   "outputs": [
    {
     "name": "stdout",
     "output_type": "stream",
     "text": [
      "Playing DVD on Television with : 10.5 width and height = :7 having screen size as :9\n"
     ]
    }
   ],
   "source": [
    "dvdPlayerTelevision.PlayDVD()"
   ]
  }
 ],
 "metadata": {
  "kernelspec": {
   "display_name": "Python 3",
   "language": "python",
   "name": "python3"
  },
  "language_info": {
   "codemirror_mode": {
    "name": "ipython",
    "version": 3
   },
   "file_extension": ".py",
   "mimetype": "text/x-python",
   "name": "python",
   "nbconvert_exporter": "python",
   "pygments_lexer": "ipython3",
   "version": "3.6.0"
  }
 },
 "nbformat": 4,
 "nbformat_minor": 2
}
